{
 "cells": [
  {
   "cell_type": "code",
   "execution_count": 5,
   "metadata": {},
   "outputs": [],
   "source": [
    "import numpy as np\n",
    "import random\n",
    "\n",
    "\n",
    "\n",
    "# 定义旋转角度和轴\n",
    "vertices=[[1,4,5],\n",
    "          [3,7,2],\n",
    "          [6,2,7]]\n",
    "def SO3_rotation(vertices):\n",
    "    angle = random.uniform(0, 2 * np.pi) # 旋转角度（例如，π/4表示45度）\n",
    "    axis = np.array([0, 0, 1])  # 旋转轴，这里以Z轴为例\n",
    "\n",
    "    # 创建旋转矩阵\n",
    "    rotation_matrix = np.eye(3)  # 创建一个单位矩阵\n",
    "    c = np.cos(angle)\n",
    "    s = np.sin(angle)\n",
    "    cross_product_matrix = np.array([[0, -axis[2], axis[1]],\n",
    "                                    [axis[2], 0, -axis[0]],\n",
    "                                    [-axis[1], axis[0], 0]])\n",
    "    rotation_matrix += s * cross_product_matrix + (1 - c) * np.outer(axis, axis)\n",
    "\n",
    "    # 将模型的顶点坐标应用旋转\n",
    "    rotated_vertices = np.dot(vertices, rotation_matrix.T)\n",
    "    return(rotated_vertices)"
   ]
  },
  {
   "cell_type": "code",
   "execution_count": 6,
   "metadata": {},
   "outputs": [
    {
     "name": "stdout",
     "output_type": "stream",
     "text": [
      "1.4681053514616136\n"
     ]
    }
   ],
   "source": [
    "print(angle)"
   ]
  }
 ],
 "metadata": {
  "kernelspec": {
   "display_name": "deepsdf",
   "language": "python",
   "name": "python3"
  },
  "language_info": {
   "codemirror_mode": {
    "name": "ipython",
    "version": 3
   },
   "file_extension": ".py",
   "mimetype": "text/x-python",
   "name": "python",
   "nbconvert_exporter": "python",
   "pygments_lexer": "ipython3",
   "version": "3.10.12"
  },
  "orig_nbformat": 4
 },
 "nbformat": 4,
 "nbformat_minor": 2
}
